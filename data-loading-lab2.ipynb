{
 "cells": [
  {
   "cell_type": "code",
   "execution_count": 16,
   "id": "cface058",
   "metadata": {},
   "outputs": [
    {
     "name": "stdout",
     "output_type": "stream",
     "text": [
      "Requirement already satisfied: pymongo in c:\\users\\priya\\anaconda3\\lib\\site-packages (4.3.3)\n",
      "Requirement already satisfied: dnspython<3.0.0,>=1.16.0 in c:\\users\\priya\\anaconda3\\lib\\site-packages (from pymongo) (2.3.0)\n",
      "Note: you may need to restart the kernel to use updated packages.\n"
     ]
    }
   ],
   "source": [
    "pip install pymongo\n"
   ]
  },
  {
   "cell_type": "code",
   "execution_count": 17,
   "id": "4abd1095",
   "metadata": {},
   "outputs": [],
   "source": [
    "import pymongo\n",
    "from pymongo import MongoClient\n",
    "import pandas as pd\n",
    "import numpy as np"
   ]
  },
  {
   "cell_type": "code",
   "execution_count": 41,
   "id": "377157a6",
   "metadata": {},
   "outputs": [
    {
     "data": {
      "text/plain": [
       "(50001, 20)"
      ]
     },
     "execution_count": 41,
     "metadata": {},
     "output_type": "execute_result"
    }
   ],
   "source": [
    "df = pd.read_csv(\"chatgpt1.csv\")\n",
    "df['createdtime'] = pd.to_datetime(df['createdtime'])\n",
    "df.fillna(\"\", inplace=True)\n",
    "df.shape"
   ]
  },
  {
   "cell_type": "code",
   "execution_count": 45,
   "id": "3eec4427",
   "metadata": {},
   "outputs": [],
   "source": [
    "client = pymongo.MongoClient(\"mongodb+srv://<username>:<password>@demo.zwn4puw.mongodb.net/test\")\n",
    "db = client['twitter']"
   ]
  },
  {
   "cell_type": "code",
   "execution_count": 46,
   "id": "8706ef25",
   "metadata": {},
   "outputs": [
    {
     "data": {
      "text/plain": [
       "Index(['createdtime', 'Tweetid', 'Tweettext', 'username', 'permalinkUrl',\n",
       "       'User_url', 'outLink', 'countLink', 'replyCount', 'retweetCount',\n",
       "       'likeCount', 'quoteCount', 'conversationId', 'Lang', 'Source_url',\n",
       "       'mediaDetails', 'quotedTweet', 'userInfo', 'hashtag', 'hastagCounts'],\n",
       "      dtype='object')"
      ]
     },
     "execution_count": 46,
     "metadata": {},
     "output_type": "execute_result"
    }
   ],
   "source": [
    "columns_map = {'Datetime' : 'createdTime', 'Text': 'tweetText', 'Username' : 'username', \n",
    "               'Permalink': 'permalinkUrl', 'User' : 'userUrl', 'Outlinks': 'outLink',\n",
    "               'CountLinks': 'countLink', 'ReplyCount' : 'replyCount', 'RetweetCount': 'retweetCount', \n",
    "               'LikeCount': 'likeCount', 'QuoteCount': 'quoteCount', 'ConversationId': 'conversationId', \n",
    "               'Language': 'lang', 'Source': 'sourceUrl', 'Media': 'mediaDetails', \n",
    "               'QuotedTweet': 'quotedTweet', 'MentionedUsers': 'userInfo', 'hash_tag' : 'hashtag', \n",
    "               'hastag_counts': 'hastagCounts', 'Tweet Id': 'tweetId' }\n",
    "df = df.rename(columns=columns_map)\n",
    "df.fillna('', inplace=True)\n",
    "df.columns"
   ]
  },
  {
   "cell_type": "code",
   "execution_count": 21,
   "id": "467ded6a",
   "metadata": {},
   "outputs": [
    {
     "data": {
      "text/plain": [
       "<pymongo.results.InsertManyResult at 0x15d0b71d7b0>"
      ]
     },
     "execution_count": 21,
     "metadata": {},
     "output_type": "execute_result"
    }
   ],
   "source": [
    "#User Collection\n",
    "def get_users(value):\n",
    "    value = value.replace('[', '').replace(']', '').replace(' ', '').replace('\\\"', '').replace('\\'', '')\n",
    "    users = []\n",
    "    for user in value.split(',User('):\n",
    "        user = user.replace('User(', '').replace('(', '').replace(')', '') \n",
    "        users.append(user)\n",
    "    return users\n",
    "\n",
    "def get_user_name(info):\n",
    "    return info.split(',')[0].split('username=')[1].replace('\\'', '')\n",
    "                                            \n",
    "columns = ['username', 'User_url']\n",
    "user_df = df[columns]\n",
    "user_df = user_df.drop_duplicates()\n",
    "\n",
    "xtra_user = df[['userInfo']].dropna().drop_duplicates()\n",
    "xtra_user = xtra_user[xtra_user['userInfo'] != '']\n",
    "xtra_user['userInfo'] = [get_users(x) for x in  xtra_user['userInfo']]\n",
    "xtra_user = xtra_user.explode('userInfo')\n",
    "xtra_user = xtra_user[xtra_user['userInfo'] != np.nan].drop_duplicates()\n",
    "xtra_user = xtra_user.dropna().drop_duplicates()\n",
    "xtra_user['username'] = [get_user_name(x) for x in xtra_user['userInfo']]\n",
    "xtra_user['User_url'] = 'https://twitter.com/' + xtra_user['username']\n",
    "xtra_user = xtra_user.drop_duplicates(subset=['username', 'User_url'], keep='last')\n",
    "all_user_df = pd.merge(user_df, xtra_user, how=\"outer\", on=[\"username\", \"User_url\"]).drop_duplicates()\n",
    "all_user_df.fillna(\"\", inplace=True)\n",
    "user_dict=all_user_df.to_dict(\"records\")\n",
    "collection = db['users']\n",
    "collection.insert_many(user_dict)\n"
   ]
  },
  {
   "cell_type": "code",
   "execution_count": null,
   "id": "f6505fb1",
   "metadata": {},
   "outputs": [],
   "source": []
  },
  {
   "cell_type": "code",
   "execution_count": 47,
   "id": "4ac6b6d5",
   "metadata": {},
   "outputs": [
    {
     "name": "stderr",
     "output_type": "stream",
     "text": [
      "C:\\Users\\priya\\AppData\\Local\\Temp\\ipykernel_3788\\827468822.py:5: SettingWithCopyWarning: \n",
      "A value is trying to be set on a copy of a slice from a DataFrame.\n",
      "Try using .loc[row_indexer,col_indexer] = value instead\n",
      "\n",
      "See the caveats in the documentation: https://pandas.pydata.org/pandas-docs/stable/user_guide/indexing.html#returning-a-view-versus-a-copy\n",
      "  source_df['Used_source'] = [get_source_name(x) for x in df['Source_url']]\n"
     ]
    },
    {
     "data": {
      "text/plain": [
       "<pymongo.results.InsertManyResult at 0x15d17499330>"
      ]
     },
     "execution_count": 47,
     "metadata": {},
     "output_type": "execute_result"
    }
   ],
   "source": [
    "# Tweet Collection\n",
    "def get_source_name(x):\n",
    "    return x.split(\">\")[1].split(\"<\")[0].strip()\n",
    "source_df = df[['Source_url']]\n",
    "source_df['Used_source'] = [get_source_name(x) for x in df['Source_url']]\n",
    "source_df=source_df['Used_source']\n",
    "url_col=['permalinkUrl','outLink', 'countLink','quotedTweet']\n",
    "url_df=df[url_col]\n",
    "url_dict=url_df.to_dict(\"records\")\n",
    "columns = ['Tweetid','Tweettext','username','createdtime', 'Lang', 'conversationId', 'replyCount','retweetCount',\n",
    "           'likeCount','quoteCount','hastagCounts']\n",
    "tweet_df = df[columns]\n",
    "tweet_df= pd.concat([tweet_df, source_df], axis=1)\n",
    "tweet_df.head(5)\n",
    "tweet_df['urls']=url_dict\n",
    "tweet_dict=tweet_df.to_dict(\"records\")\n",
    "collection = db['tweets']\n",
    "collection.insert_many(tweet_dict)\n"
   ]
  },
  {
   "cell_type": "code",
   "execution_count": null,
   "id": "ae63af1a",
   "metadata": {},
   "outputs": [],
   "source": []
  },
  {
   "cell_type": "code",
   "execution_count": 25,
   "id": "7fd4a8c3",
   "metadata": {},
   "outputs": [
    {
     "name": "stderr",
     "output_type": "stream",
     "text": [
      "C:\\Users\\priya\\AppData\\Local\\Temp\\ipykernel_3788\\3249413257.py:7: SettingWithCopyWarning: \n",
      "A value is trying to be set on a copy of a slice from a DataFrame.\n",
      "Try using .loc[row_indexer,col_indexer] = value instead\n",
      "\n",
      "See the caveats in the documentation: https://pandas.pydata.org/pandas-docs/stable/user_guide/indexing.html#returning-a-view-versus-a-copy\n",
      "  hashtag_df['hashtag'] = [convert_to_list(x) for x in  hashtag_df['hashtag']]\n"
     ]
    },
    {
     "data": {
      "text/plain": [
       "<pymongo.results.InsertManyResult at 0x15d00042170>"
      ]
     },
     "execution_count": 25,
     "metadata": {},
     "output_type": "execute_result"
    }
   ],
   "source": [
    "#hashtag collection\n",
    "def convert_to_list(value):\n",
    "    return value.replace('[', '').replace(']', '').replace('\\'', '').replace(' ', '').split(\",\")\n",
    "columns = ['Tweetid', 'hashtag']\n",
    "hashtag_df = df[columns]\n",
    "\n",
    "hashtag_df['hashtag'] = [convert_to_list(x) for x in  hashtag_df['hashtag']]\n",
    "\n",
    "hashtag_df = hashtag_df.explode('hashtag')\n",
    "hashtag_df = hashtag_df[hashtag_df['hashtag'] != '']\n",
    "hashtag_dict =hashtag_df.to_dict(\"records\")\n",
    "collection = db['hashtags']\n",
    "collection.insert_many(hashtag_dict)\n"
   ]
  },
  {
   "cell_type": "code",
   "execution_count": null,
   "id": "4278b1a9",
   "metadata": {},
   "outputs": [],
   "source": []
  },
  {
   "cell_type": "code",
   "execution_count": 36,
   "id": "2522593b",
   "metadata": {},
   "outputs": [
    {
     "name": "stderr",
     "output_type": "stream",
     "text": [
      "C:\\Users\\priya\\AppData\\Local\\Temp\\ipykernel_3788\\1304118638.py:36: SettingWithCopyWarning: \n",
      "A value is trying to be set on a copy of a slice from a DataFrame.\n",
      "Try using .loc[row_indexer,col_indexer] = value instead\n",
      "\n",
      "See the caveats in the documentation: https://pandas.pydata.org/pandas-docs/stable/user_guide/indexing.html#returning-a-view-versus-a-copy\n",
      "  media_df['mediaDetails'] = [clear_field(x) for x in media_df['mediaDetails']]\n",
      "C:\\Users\\priya\\AppData\\Local\\Temp\\ipykernel_3788\\1304118638.py:37: SettingWithCopyWarning: \n",
      "A value is trying to be set on a copy of a slice from a DataFrame.\n",
      "Try using .loc[row_indexer,col_indexer] = value instead\n",
      "\n",
      "See the caveats in the documentation: https://pandas.pydata.org/pandas-docs/stable/user_guide/indexing.html#returning-a-view-versus-a-copy\n",
      "  media_df['mediaDetails'] = media_df['mediaDetails'].where(media_df['mediaDetails'] != '', np.nan)\n"
     ]
    },
    {
     "data": {
      "text/html": [
       "<div>\n",
       "<style scoped>\n",
       "    .dataframe tbody tr th:only-of-type {\n",
       "        vertical-align: middle;\n",
       "    }\n",
       "\n",
       "    .dataframe tbody tr th {\n",
       "        vertical-align: top;\n",
       "    }\n",
       "\n",
       "    .dataframe thead th {\n",
       "        text-align: right;\n",
       "    }\n",
       "</style>\n",
       "<table border=\"1\" class=\"dataframe\">\n",
       "  <thead>\n",
       "    <tr style=\"text-align: right;\">\n",
       "      <th></th>\n",
       "      <th>Tweetid</th>\n",
       "      <th>mediaDetails</th>\n",
       "      <th>mediaType</th>\n",
       "    </tr>\n",
       "  </thead>\n",
       "  <tbody>\n",
       "    <tr>\n",
       "      <th>2</th>\n",
       "      <td>1617156308926340000</td>\n",
       "      <td>Photo(previewUrl='https://pbs.twimg.com/media/FnFLF3SWIAAtThd?format=jpg&amp;name=small',fullUrl='https://pbs.twimg.com/media/FnFLF3SWIAAtThd?format=jpg&amp;name=large')</td>\n",
       "      <td>Photo</td>\n",
       "    </tr>\n",
       "    <tr>\n",
       "      <th>8</th>\n",
       "      <td>1617156404137290000</td>\n",
       "      <td>Photo(previewUrl='https://pbs.twimg.com/media/FnFLLMhaEAAXeSF?format=jpg&amp;name=small',fullUrl='https://pbs.twimg.com/media/FnFLLMhaEAAXeSF?format=jpg&amp;name=large')</td>\n",
       "      <td>Photo</td>\n",
       "    </tr>\n",
       "    <tr>\n",
       "      <th>8</th>\n",
       "      <td>1617156404137290000</td>\n",
       "      <td>Photo(previewUrl='https://pbs.twimg.com/media/FnFLLMjaUAUZ_-h?format=jpg&amp;name=small',fullUrl='https://pbs.twimg.com/media/FnFLLMjaUAUZ_-h?format=jpg&amp;name=large')</td>\n",
       "      <td>Photo</td>\n",
       "    </tr>\n",
       "    <tr>\n",
       "      <th>8</th>\n",
       "      <td>1617156404137290000</td>\n",
       "      <td>Photo(previewUrl='https://pbs.twimg.com/media/FnFLLMkaYAAa5tF?format=jpg&amp;name=small',fullUrl='https://pbs.twimg.com/media/FnFLLMkaYAAa5tF?format=jpg&amp;name=large')</td>\n",
       "      <td>Photo</td>\n",
       "    </tr>\n",
       "    <tr>\n",
       "      <th>8</th>\n",
       "      <td>1617156404137290000</td>\n",
       "      <td>Photo(previewUrl='https://pbs.twimg.com/media/FnFLLMiacAAttvJ?format=jpg&amp;name=small',fullUrl='https://pbs.twimg.com/media/FnFLLMiacAAttvJ?format=jpg&amp;name=large')</td>\n",
       "      <td>Photo</td>\n",
       "    </tr>\n",
       "    <tr>\n",
       "      <th>...</th>\n",
       "      <td>...</td>\n",
       "      <td>...</td>\n",
       "      <td>...</td>\n",
       "    </tr>\n",
       "    <tr>\n",
       "      <th>49997</th>\n",
       "      <td>1617778726393240000</td>\n",
       "      <td>Photo(previewUrl='https://pbs.twimg.com/media/FnOBJywXEAE2X1c?format=jpg&amp;name=small',fullUrl='https://pbs.twimg.com/media/FnOBJywXEAE2X1c?format=jpg&amp;name=large')</td>\n",
       "      <td>Photo</td>\n",
       "    </tr>\n",
       "    <tr>\n",
       "      <th>49998</th>\n",
       "      <td>1617778728481990000</td>\n",
       "      <td>Photo(previewUrl='https://pbs.twimg.com/media/FnOBLWWX0AU55Yl?format=jpg&amp;name=small',fullUrl='https://pbs.twimg.com/media/FnOBLWWX0AU55Yl?format=jpg&amp;name=large')</td>\n",
       "      <td>Photo</td>\n",
       "    </tr>\n",
       "    <tr>\n",
       "      <th>49998</th>\n",
       "      <td>1617778728481990000</td>\n",
       "      <td>Photo(previewUrl='https://pbs.twimg.com/media/FnOBLWWWAAA7syy?format=jpg&amp;name=small',fullUrl='https://pbs.twimg.com/media/FnOBLWWWAAA7syy?format=jpg&amp;name=large')</td>\n",
       "      <td>Photo</td>\n",
       "    </tr>\n",
       "    <tr>\n",
       "      <th>49998</th>\n",
       "      <td>1617778728481990000</td>\n",
       "      <td>Photo(previewUrl='https://pbs.twimg.com/media/FnOBLWTXoAA7ufW?format=jpg&amp;name=small',fullUrl='https://pbs.twimg.com/media/FnOBLWTXoAA7ufW?format=jpg&amp;name=large')</td>\n",
       "      <td>Photo</td>\n",
       "    </tr>\n",
       "    <tr>\n",
       "      <th>49998</th>\n",
       "      <td>1617778728481990000</td>\n",
       "      <td>Photo(previewUrl='https://pbs.twimg.com/media/FnOBLWQWIAE-tk8?format=jpg&amp;name=small',fullUrl='https://pbs.twimg.com/media/FnOBLWQWIAE-tk8?format=jpg&amp;name=large')</td>\n",
       "      <td>Photo</td>\n",
       "    </tr>\n",
       "  </tbody>\n",
       "</table>\n",
       "<p>11162 rows × 3 columns</p>\n",
       "</div>"
      ],
      "text/plain": [
       "                   Tweetid  \\\n",
       "2      1617156308926340000   \n",
       "8      1617156404137290000   \n",
       "8      1617156404137290000   \n",
       "8      1617156404137290000   \n",
       "8      1617156404137290000   \n",
       "...                    ...   \n",
       "49997  1617778726393240000   \n",
       "49998  1617778728481990000   \n",
       "49998  1617778728481990000   \n",
       "49998  1617778728481990000   \n",
       "49998  1617778728481990000   \n",
       "\n",
       "                                                                                                                                                            mediaDetails  \\\n",
       "2      Photo(previewUrl='https://pbs.twimg.com/media/FnFLF3SWIAAtThd?format=jpg&name=small',fullUrl='https://pbs.twimg.com/media/FnFLF3SWIAAtThd?format=jpg&name=large')   \n",
       "8      Photo(previewUrl='https://pbs.twimg.com/media/FnFLLMhaEAAXeSF?format=jpg&name=small',fullUrl='https://pbs.twimg.com/media/FnFLLMhaEAAXeSF?format=jpg&name=large')   \n",
       "8      Photo(previewUrl='https://pbs.twimg.com/media/FnFLLMjaUAUZ_-h?format=jpg&name=small',fullUrl='https://pbs.twimg.com/media/FnFLLMjaUAUZ_-h?format=jpg&name=large')   \n",
       "8      Photo(previewUrl='https://pbs.twimg.com/media/FnFLLMkaYAAa5tF?format=jpg&name=small',fullUrl='https://pbs.twimg.com/media/FnFLLMkaYAAa5tF?format=jpg&name=large')   \n",
       "8      Photo(previewUrl='https://pbs.twimg.com/media/FnFLLMiacAAttvJ?format=jpg&name=small',fullUrl='https://pbs.twimg.com/media/FnFLLMiacAAttvJ?format=jpg&name=large')   \n",
       "...                                                                                                                                                                  ...   \n",
       "49997  Photo(previewUrl='https://pbs.twimg.com/media/FnOBJywXEAE2X1c?format=jpg&name=small',fullUrl='https://pbs.twimg.com/media/FnOBJywXEAE2X1c?format=jpg&name=large')   \n",
       "49998  Photo(previewUrl='https://pbs.twimg.com/media/FnOBLWWX0AU55Yl?format=jpg&name=small',fullUrl='https://pbs.twimg.com/media/FnOBLWWX0AU55Yl?format=jpg&name=large')   \n",
       "49998  Photo(previewUrl='https://pbs.twimg.com/media/FnOBLWWWAAA7syy?format=jpg&name=small',fullUrl='https://pbs.twimg.com/media/FnOBLWWWAAA7syy?format=jpg&name=large')   \n",
       "49998  Photo(previewUrl='https://pbs.twimg.com/media/FnOBLWTXoAA7ufW?format=jpg&name=small',fullUrl='https://pbs.twimg.com/media/FnOBLWTXoAA7ufW?format=jpg&name=large')   \n",
       "49998  Photo(previewUrl='https://pbs.twimg.com/media/FnOBLWQWIAE-tk8?format=jpg&name=small',fullUrl='https://pbs.twimg.com/media/FnOBLWQWIAE-tk8?format=jpg&name=large')   \n",
       "\n",
       "      mediaType  \n",
       "2         Photo  \n",
       "8         Photo  \n",
       "8         Photo  \n",
       "8         Photo  \n",
       "8         Photo  \n",
       "...         ...  \n",
       "49997     Photo  \n",
       "49998     Photo  \n",
       "49998     Photo  \n",
       "49998     Photo  \n",
       "49998     Photo  \n",
       "\n",
       "[11162 rows x 3 columns]"
      ]
     },
     "execution_count": 36,
     "metadata": {},
     "output_type": "execute_result"
    }
   ],
   "source": [
    "# media collection \n",
    "\n",
    "def clear_field(x):\n",
    "    return x.replace('[', '').replace(']', '').strip()\n",
    "\n",
    "def get_all_media(mediaDetails):\n",
    "    x = mediaDetails.replace('[', '').replace(']', '').replace(' ', '')\n",
    "    x = x.replace('Photo(', 'Photo(Photo(')\n",
    "    x = x.replace('Video(', 'Video(Video(')\n",
    "    x = x.replace('Gif(', 'Gif(Gif(')\n",
    "    \n",
    "    res = [x]\n",
    "    for s in ['),Photo(', '), Video(', '), Gif(']:\n",
    "        temp = [p for r in res for p in r.split(s)]\n",
    "        res = temp\n",
    "    \n",
    "    result = []\n",
    "    for r in res:\n",
    "        r = r.replace('Photo(Photo(', 'Photo(')\n",
    "        r = r.replace('Video(Video(', 'Video(')\n",
    "        r = r.replace('Gif(Gif(', 'Gif(')\n",
    "        if not r.endswith(')'):\n",
    "            r = r+')'\n",
    "        result.append(r)\n",
    "    return result\n",
    "    \n",
    "\n",
    "def get_mediaType(media):\n",
    "    return media.replace('[', '').replace(']', '').replace(' ', '').split('(')[0]\n",
    "\n",
    "\n",
    "pd.set_option('display.max_colwidth', None)\n",
    "\n",
    "columns = ['Tweetid', 'mediaDetails']\n",
    "media_df = df[columns]\n",
    "media_df['mediaDetails'] = [clear_field(x) for x in media_df['mediaDetails']]\n",
    "media_df['mediaDetails'] = media_df['mediaDetails'].where(media_df['mediaDetails'] != '', np.nan)\n",
    "media_df = media_df.dropna().drop_duplicates()\n",
    "\n",
    "\n",
    "media_df['mediaDetails'] = [get_all_media(x) for x in media_df['mediaDetails']]\n",
    "media_df = media_df.explode('mediaDetails')\n",
    "\n",
    "media_df['mediaType'] = [get_mediaType(x) for x in media_df['mediaDetails']]\n",
    "media_df_all=media_df[['Tweetid','mediaType','mediaDetails']]\n",
    "media_df\n",
    "media_dict =media_df_all.to_dict(\"records\")\n",
    "collection = db['media']\n",
    "collection.insert_many(media_dict)\n"
   ]
  },
  {
   "cell_type": "code",
   "execution_count": null,
   "id": "00fab94a",
   "metadata": {},
   "outputs": [],
   "source": []
  },
  {
   "cell_type": "code",
   "execution_count": 87,
   "id": "a589fb78",
   "metadata": {},
   "outputs": [],
   "source": []
  },
  {
   "cell_type": "code",
   "execution_count": null,
   "id": "fe6d6558",
   "metadata": {},
   "outputs": [],
   "source": []
  },
  {
   "cell_type": "code",
   "execution_count": null,
   "id": "51c0e2ff",
   "metadata": {},
   "outputs": [],
   "source": []
  },
  {
   "cell_type": "code",
   "execution_count": 48,
   "id": "1aef6b06",
   "metadata": {},
   "outputs": [
    {
     "data": {
      "text/plain": [
       "<pymongo.results.InsertManyResult at 0x15d00040e20>"
      ]
     },
     "execution_count": 48,
     "metadata": {},
     "output_type": "execute_result"
    }
   ],
   "source": [
    "#user_mentions\n",
    "def get_users(value):\n",
    "    value = value.replace('[', '').replace(']', '').replace(' ', '').replace('\\\"', '').replace('\\'', '')\n",
    "    users = []\n",
    "    for user in value.split(',User('):\n",
    "        user = user.replace('User', '').replace('(', '').replace(')', '') \n",
    "        users.append(user)\n",
    "    return users\n",
    "\n",
    "def get_user_name(info):\n",
    "    return info.split(',')[0].split('username=')[1].replace('\\'', '')\n",
    "                                            \n",
    "def get_id(info):\n",
    "    return info.split(',')[1].split('id=')[1].replace('\\'', '')\n",
    "def get_display_name(info):\n",
    "    return info.split(',')[2].split('displayname=')[1].replace('\\'', '')\n",
    "                                            \n",
    "                                            \n",
    "columns = ['Tweetid', 'userInfo']\n",
    "user_mentions_df = df[columns].drop_duplicates()\n",
    "\n",
    "user_mentions_df['userInfo'] = [get_users(x) for x in  user_mentions_df['userInfo']]\n",
    "user_mentions_df = user_mentions_df.explode('userInfo')\n",
    "user_mentions_df = user_mentions_df[user_mentions_df['userInfo'] != '']\n",
    "user_mentions_df['username'] = [get_user_name(x) for x in user_mentions_df['userInfo']]\n",
    "user_mentions_df['userid'] = [get_id(x) for x in user_mentions_df['userInfo']]\n",
    "user_mentions_df['displayname'] = [get_display_name(x) for x in user_mentions_df['userInfo']]\n",
    "mentions_df = user_mentions_df[['Tweetid', 'username','userid','displayname']]\n",
    "mentions_df.head(20)\n",
    "usermentions_dict =mentions_df.to_dict(\"records\")\n",
    "collection = db['user_mentions']\n",
    "collection.insert_many(usermentions_dict)\n"
   ]
  },
  {
   "cell_type": "code",
   "execution_count": null,
   "id": "7f9422dc",
   "metadata": {},
   "outputs": [],
   "source": []
  }
 ],
 "metadata": {
  "kernelspec": {
   "display_name": "Python 3 (ipykernel)",
   "language": "python",
   "name": "python3"
  },
  "language_info": {
   "codemirror_mode": {
    "name": "ipython",
    "version": 3
   },
   "file_extension": ".py",
   "mimetype": "text/x-python",
   "name": "python",
   "nbconvert_exporter": "python",
   "pygments_lexer": "ipython3",
   "version": "3.10.9"
  }
 },
 "nbformat": 4,
 "nbformat_minor": 5
}
